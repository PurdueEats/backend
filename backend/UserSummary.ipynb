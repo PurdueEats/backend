{
 "cells": [
  {
   "cell_type": "code",
   "execution_count": 1,
   "metadata": {},
   "outputs": [],
   "source": [
    "!set GOOGLE_APPLICATION_CREDENTIALS=C:\\Users\\Mark\\Desktop\\PurdueEats-e85c448de7a4.json"
   ]
  },
  {
   "cell_type": "code",
   "execution_count": 2,
   "metadata": {},
   "outputs": [
    {
     "ename": "FileNotFoundError",
     "evalue": "[Errno 2] No such file or directory: 'backend/DB/resources/Earhart.jpeg'",
     "output_type": "error",
     "traceback": [
      "\u001b[1;31m---------------------------------------------------------------------------\u001b[0m",
      "\u001b[1;31mFileNotFoundError\u001b[0m                         Traceback (most recent call last)",
      "\u001b[1;32m<ipython-input-2-b46c0c2c3520>\u001b[0m in \u001b[0;36m<module>\u001b[1;34m\u001b[0m\n\u001b[0;32m      1\u001b[0m \u001b[1;32mfrom\u001b[0m \u001b[0mgoogle\u001b[0m\u001b[1;33m.\u001b[0m\u001b[0mcloud\u001b[0m \u001b[1;32mimport\u001b[0m \u001b[0mbigquery\u001b[0m\u001b[1;33m\u001b[0m\u001b[1;33m\u001b[0m\u001b[0m\n\u001b[0;32m      2\u001b[0m \u001b[1;32mfrom\u001b[0m \u001b[0mDB\u001b[0m\u001b[1;33m.\u001b[0m\u001b[0mMealPlans\u001b[0m \u001b[1;32mimport\u001b[0m \u001b[0mmeal_plan_list\u001b[0m\u001b[1;33m\u001b[0m\u001b[1;33m\u001b[0m\u001b[0m\n\u001b[1;32m----> 3\u001b[1;33m \u001b[1;32mfrom\u001b[0m \u001b[0mDB\u001b[0m\u001b[1;33m.\u001b[0m\u001b[0mDiningFacilities\u001b[0m \u001b[1;32mimport\u001b[0m \u001b[0mdining_facility_list\u001b[0m\u001b[1;33m\u001b[0m\u001b[1;33m\u001b[0m\u001b[0m\n\u001b[0m\u001b[0;32m      4\u001b[0m \u001b[1;32mimport\u001b[0m \u001b[0msys\u001b[0m\u001b[1;33m\u001b[0m\u001b[1;33m\u001b[0m\u001b[0m\n\u001b[0;32m      5\u001b[0m \u001b[1;32mfrom\u001b[0m \u001b[0mDB\u001b[0m\u001b[1;33m.\u001b[0m\u001b[0mUtil\u001b[0m \u001b[1;32mimport\u001b[0m \u001b[0mrunQuery\u001b[0m\u001b[1;33m\u001b[0m\u001b[1;33m\u001b[0m\u001b[0m\n",
      "\u001b[1;32m~\\Desktop\\PurdueEats\\backend\\CS307\\backend\\DB\\DiningFacilities.py\u001b[0m in \u001b[0;36m<module>\u001b[1;34m\u001b[0m\n\u001b[0;32m      9\u001b[0m     \u001b[0;31m\\\u001b[0m\u001b[0;31m\"\u001b[0m\u001b[0mEarhart\u001b[0m \u001b[0mDining\u001b[0m \u001b[0mCourt\u001b[0m \u001b[1;32mis\u001b[0m \u001b[0mopen\u001b[0m \u001b[0mto\u001b[0m \u001b[0mall\u001b[0m \u001b[0mPurdue\u001b[0m \u001b[0mstudent\u001b[0m \u001b[0mmeal\u001b[0m \u001b[0mplan\u001b[0m \u001b[0mholders\u001b[0m \u001b[0monly\u001b[0m\u001b[1;33m.\u001b[0m\u001b[0;31m\\\u001b[0m\u001b[0;31m\"\u001b[0m\u001b[1;33m,\u001b[0m\u001b[1;33m\u001b[0m\u001b[1;33m\u001b[0m\u001b[0m\n\u001b[0;32m     10\u001b[0m     \u001b[0;31m\\\u001b[0m\u001b[0;31m\"\u001b[0m\u001b[1;36m1275\u001b[0m \u001b[1;36m1\u001b[0m\u001b[0mst\u001b[0m \u001b[0mStreet\u001b[0m\u001b[1;33m,\u001b[0m \u001b[0mWest\u001b[0m \u001b[0mLafayette\u001b[0m\u001b[1;33m,\u001b[0m \u001b[0mIN\u001b[0m \u001b[1;36m47906\u001b[0m\u001b[0;31m\\\u001b[0m\u001b[0;31m\"\u001b[0m\u001b[1;33m,\u001b[0m\u001b[1;33m\u001b[0m\u001b[1;33m\u001b[0m\u001b[0m\n\u001b[1;32m---> 11\u001b[1;33m      \u001b[1;33m{\u001b[0m\u001b[0mbase64\u001b[0m\u001b[1;33m.\u001b[0m\u001b[0mb64encode\u001b[0m\u001b[1;33m(\u001b[0m\u001b[0mopen\u001b[0m\u001b[1;33m(\u001b[0m\u001b[1;34m'backend/DB/resources/Earhart.jpeg'\u001b[0m\u001b[1;33m,\u001b[0m \u001b[1;34m\"rb\"\u001b[0m\u001b[1;33m)\u001b[0m\u001b[1;33m.\u001b[0m\u001b[0mread\u001b[0m\u001b[1;33m(\u001b[0m\u001b[1;33m)\u001b[0m\u001b[1;33m)\u001b[0m\u001b[1;33m}\u001b[0m\u001b[1;33m\u001b[0m\u001b[1;33m\u001b[0m\u001b[0m\n\u001b[0m\u001b[0;32m     12\u001b[0m      ) \"\"\",\n\u001b[0;32m     13\u001b[0m \u001b[1;33m\u001b[0m\u001b[0m\n",
      "\u001b[1;31mFileNotFoundError\u001b[0m: [Errno 2] No such file or directory: 'backend/DB/resources/Earhart.jpeg'"
     ]
    }
   ],
   "source": [
    "from google.cloud import bigquery\n",
    "from DB.MealPlans import meal_plan_list\n",
    "from DB.DiningFacilities import dining_facility_list\n",
    "import sys\n",
    "from DB.Util import runQuery\n",
    "\n",
    "gcp_project = \"purdueeats-304919\"\n",
    "bq_dataset = \"PurdueEatsDatabase\"\n",
    "\n",
    "client = bigquery.Client(project=gcp_project)\n",
    "dataset_ref = client.dataset(bq_dataset)\n",
    "\n",
    "def selectUser(UserID):\n",
    "    #runQuery(\"DELETE from MealPlan WHERE True\")\n",
    "    #result = runQuery( f\"select user.UserID, TransactionAmount, Balance, Timestamp from UserBasic as user Inner Join UserTransaction as txn on user.UserID = txn.UserID WHERE user.UserID = {UserID}\")\n",
    "    result = runQuery( f\"select user.UserID, MealSwipeCount, DiningDollarAmount, MealPlanName from UserBasic as user Inner Join MealPlan as txn on user.UserID = txn.UserID WHERE user.UserID = {UserID}\")\n",
    "    return result.to_dataframe()\n",
    "    \n",
    "    \n",
    "if __name__ == \"__main__\":\n",
    "    ret = selectUser(6967645914836607000)\n",
    "    print(ret)"
   ]
  },
  {
   "cell_type": "code",
   "execution_count": null,
   "metadata": {},
   "outputs": [],
   "source": [
    "ret = selectUser(6967645914836607000)\n",
    "print(ret)"
   ]
  }
 ],
 "metadata": {
  "kernelspec": {
   "display_name": "Python 3",
   "language": "python",
   "name": "python3"
  },
  "language_info": {
   "codemirror_mode": {
    "name": "ipython",
    "version": 3
   },
   "file_extension": ".py",
   "mimetype": "text/x-python",
   "name": "python",
   "nbconvert_exporter": "python",
   "pygments_lexer": "ipython3",
   "version": "3.8.5"
  }
 },
 "nbformat": 4,
 "nbformat_minor": 4
}
