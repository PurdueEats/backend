{
 "cells": [
  {
   "cell_type": "code",
   "execution_count": 1,
   "metadata": {},
   "outputs": [],
   "source": [
    "import pandas as pd\n",
    "import numpy as np\n",
    "from sklearn.metrics import accuracy_score\n",
    "import xgboost as xgb\n",
    "from sklearn.model_selection import train_test_split\n",
    "import seaborn as sn\n",
    "import matplotlib.pyplot as plt"
   ]
  },
  {
   "cell_type": "code",
   "execution_count": 250,
   "metadata": {},
   "outputs": [
    {
     "data": {
      "text/html": [
       "<div>\n",
       "<style scoped>\n",
       "    .dataframe tbody tr th:only-of-type {\n",
       "        vertical-align: middle;\n",
       "    }\n",
       "\n",
       "    .dataframe tbody tr th {\n",
       "        vertical-align: top;\n",
       "    }\n",
       "\n",
       "    .dataframe thead th {\n",
       "        text-align: right;\n",
       "    }\n",
       "</style>\n",
       "<table border=\"1\" class=\"dataframe\">\n",
       "  <thead>\n",
       "    <tr style=\"text-align: right;\">\n",
       "      <th></th>\n",
       "      <th>DisplayText</th>\n",
       "    </tr>\n",
       "    <tr>\n",
       "      <th>Datetime</th>\n",
       "      <th></th>\n",
       "    </tr>\n",
       "  </thead>\n",
       "  <tbody>\n",
       "    <tr>\n",
       "      <th>2020-08-31 19:50:00</th>\n",
       "      <td>Out the Door (100-200 people)</td>\n",
       "    </tr>\n",
       "    <tr>\n",
       "      <th>2019-11-20 11:41:00</th>\n",
       "      <td>Out the Door (100-200 people)</td>\n",
       "    </tr>\n",
       "    <tr>\n",
       "      <th>2018-08-24 12:34:00</th>\n",
       "      <td>Out the Door (100-200 people)</td>\n",
       "    </tr>\n",
       "    <tr>\n",
       "      <th>2020-08-29 17:09:00</th>\n",
       "      <td>Out the Door (100-200 people)</td>\n",
       "    </tr>\n",
       "    <tr>\n",
       "      <th>2020-08-29 18:12:00</th>\n",
       "      <td>Out the Door (100-200 people)</td>\n",
       "    </tr>\n",
       "    <tr>\n",
       "      <th>...</th>\n",
       "      <td>...</td>\n",
       "    </tr>\n",
       "    <tr>\n",
       "      <th>2016-08-27 13:35:00</th>\n",
       "      <td>Around the Building (200+ people)</td>\n",
       "    </tr>\n",
       "    <tr>\n",
       "      <th>2018-08-03 17:10:00</th>\n",
       "      <td>Around the Building (200+ people)</td>\n",
       "    </tr>\n",
       "    <tr>\n",
       "      <th>2017-03-27 11:34:00</th>\n",
       "      <td>Around the Building (200+ people)</td>\n",
       "    </tr>\n",
       "    <tr>\n",
       "      <th>2018-04-01 10:57:00</th>\n",
       "      <td>Around the Building (200+ people)</td>\n",
       "    </tr>\n",
       "    <tr>\n",
       "      <th>2017-11-02 17:58:00</th>\n",
       "      <td>Around the Building (200+ people)</td>\n",
       "    </tr>\n",
       "  </tbody>\n",
       "</table>\n",
       "<p>3012 rows × 1 columns</p>\n",
       "</div>"
      ],
      "text/plain": [
       "                                           DisplayText\n",
       "Datetime                                              \n",
       "2020-08-31 19:50:00      Out the Door (100-200 people)\n",
       "2019-11-20 11:41:00      Out the Door (100-200 people)\n",
       "2018-08-24 12:34:00      Out the Door (100-200 people)\n",
       "2020-08-29 17:09:00      Out the Door (100-200 people)\n",
       "2020-08-29 18:12:00      Out the Door (100-200 people)\n",
       "...                                                ...\n",
       "2016-08-27 13:35:00  Around the Building (200+ people)\n",
       "2018-08-03 17:10:00  Around the Building (200+ people)\n",
       "2017-03-27 11:34:00  Around the Building (200+ people)\n",
       "2018-04-01 10:57:00  Around the Building (200+ people)\n",
       "2017-11-02 17:58:00  Around the Building (200+ people)\n",
       "\n",
       "[3012 rows x 1 columns]"
      ]
     },
     "execution_count": 250,
     "metadata": {},
     "output_type": "execute_result"
    }
   ],
   "source": [
    "df = pd.read_csv('WaitTimesNoLocationClassification.csv', index_col=[0], parse_dates=[0])\n",
    "df"
   ]
  },
  {
   "cell_type": "code",
   "execution_count": 251,
   "metadata": {},
   "outputs": [],
   "source": [
    "def f(row):\n",
    "    if row['DisplayText']== \"In the Lobby (0-50 people)\":\n",
    "        val = 0\n",
    "    elif row['DisplayText']== \"Filling the Lobby (50-100 people)\":\n",
    "        val = 1\n",
    "    elif row['DisplayText']== \"Out the Door (100-200 people)\":\n",
    "        val = 2   \n",
    "    elif row['DisplayText']== \"Around the Building (200+ people)\":\n",
    "        val = 3\n",
    "    return val\n",
    "\n",
    "df['feature'] = np.nan\n",
    "df['feature'] = df.apply(f, axis=1)"
   ]
  },
  {
   "cell_type": "code",
   "execution_count": 252,
   "metadata": {},
   "outputs": [],
   "source": [
    "del df['DisplayText']"
   ]
  },
  {
   "cell_type": "code",
   "execution_count": 253,
   "metadata": {},
   "outputs": [],
   "source": [
    "split_date = '01-Aug-2020'\n",
    "df_train = df.loc[df.index <= split_date].copy()\n",
    "df_test = df.loc[df.index > split_date].copy()"
   ]
  },
  {
   "cell_type": "code",
   "execution_count": 254,
   "metadata": {},
   "outputs": [],
   "source": [
    "def create_features(df, label=None):\n",
    "    \"\"\"\n",
    "    Creates time series features from datetime index\n",
    "    \"\"\"\n",
    "    print(df)\n",
    "    df['date'] = df.index\n",
    "    df['hour'] = df['date'].dt.hour\n",
    "    df['dayofweek'] = df['date'].dt.dayofweek\n",
    "    df['quarter'] = df['date'].dt.quarter\n",
    "    df['month'] = df['date'].dt.month\n",
    "    df['year'] = df['date'].dt.year\n",
    "    df['dayofyear'] = df['date'].dt.dayofyear\n",
    "    df['dayofmonth'] = df['date'].dt.day\n",
    "    df['weekofyear'] = df['date'].dt.weekofyear\n",
    "    #df['LocationId'] = df.LocationId\n",
    "\n",
    "    #X = df[['hour','dayofweek','quarter','month','year',\n",
    "    #       'dayofyear','dayofmonth','weekofyear', 'LocationId']]\n",
    "    X = df[['hour','dayofweek','quarter','month','year',\n",
    "        'dayofyear','dayofmonth','weekofyear']]\n",
    "    \n",
    "    print(X)\n",
    "    if label:\n",
    "        y = df[label]\n",
    "        return X, y\n",
    "    return X"
   ]
  },
  {
   "cell_type": "code",
   "execution_count": 255,
   "metadata": {},
   "outputs": [
    {
     "name": "stdout",
     "output_type": "stream",
     "text": [
      "                     feature\n",
      "Datetime                    \n",
      "2019-11-20 11:41:00        2\n",
      "2018-08-24 12:34:00        2\n",
      "2018-10-02 17:10:00        0\n",
      "2019-04-02 13:59:00        0\n",
      "2019-02-05 19:59:00        0\n",
      "...                      ...\n",
      "2016-08-27 13:35:00        3\n",
      "2018-08-03 17:10:00        3\n",
      "2017-03-27 11:34:00        3\n",
      "2018-04-01 10:57:00        3\n",
      "2017-11-02 17:58:00        3\n",
      "\n",
      "[2462 rows x 1 columns]\n",
      "                     hour  dayofweek  quarter  month  year  dayofyear  \\\n",
      "Datetime                                                                \n",
      "2019-11-20 11:41:00    11          2        4     11  2019        324   \n",
      "2018-08-24 12:34:00    12          4        3      8  2018        236   \n",
      "2018-10-02 17:10:00    17          1        4     10  2018        275   \n",
      "2019-04-02 13:59:00    13          1        2      4  2019         92   \n",
      "2019-02-05 19:59:00    19          1        1      2  2019         36   \n",
      "...                   ...        ...      ...    ...   ...        ...   \n",
      "2016-08-27 13:35:00    13          5        3      8  2016        240   \n",
      "2018-08-03 17:10:00    17          4        3      8  2018        215   \n",
      "2017-03-27 11:34:00    11          0        1      3  2017         86   \n",
      "2018-04-01 10:57:00    10          6        2      4  2018         91   \n",
      "2017-11-02 17:58:00    17          3        4     11  2017        306   \n",
      "\n",
      "                     dayofmonth  weekofyear  \n",
      "Datetime                                     \n",
      "2019-11-20 11:41:00          20          47  \n",
      "2018-08-24 12:34:00          24          34  \n",
      "2018-10-02 17:10:00           2          40  \n",
      "2019-04-02 13:59:00           2          14  \n",
      "2019-02-05 19:59:00           5           6  \n",
      "...                         ...         ...  \n",
      "2016-08-27 13:35:00          27          34  \n",
      "2018-08-03 17:10:00           3          31  \n",
      "2017-03-27 11:34:00          27          13  \n",
      "2018-04-01 10:57:00           1          13  \n",
      "2017-11-02 17:58:00           2          44  \n",
      "\n",
      "[2462 rows x 8 columns]\n",
      "                     feature\n",
      "Datetime                    \n",
      "2020-08-31 19:50:00        2\n",
      "2020-08-29 17:09:00        2\n",
      "2020-08-29 18:12:00        2\n",
      "2020-08-29 17:39:00        2\n",
      "2020-08-29 17:24:00        2\n",
      "...                      ...\n",
      "2020-08-27 18:53:00        3\n",
      "2020-08-20 11:49:00        3\n",
      "2020-08-18 12:45:00        3\n",
      "2020-08-18 12:23:00        3\n",
      "2020-08-18 12:02:00        3\n",
      "\n",
      "[550 rows x 1 columns]\n",
      "                     hour  dayofweek  quarter  month  year  dayofyear  \\\n",
      "Datetime                                                                \n",
      "2020-08-31 19:50:00    19          0        3      8  2020        244   \n",
      "2020-08-29 17:09:00    17          5        3      8  2020        242   \n",
      "2020-08-29 18:12:00    18          5        3      8  2020        242   \n",
      "2020-08-29 17:39:00    17          5        3      8  2020        242   \n",
      "2020-08-29 17:24:00    17          5        3      8  2020        242   \n",
      "...                   ...        ...      ...    ...   ...        ...   \n",
      "2020-08-27 18:53:00    18          3        3      8  2020        240   \n",
      "2020-08-20 11:49:00    11          3        3      8  2020        233   \n",
      "2020-08-18 12:45:00    12          1        3      8  2020        231   \n",
      "2020-08-18 12:23:00    12          1        3      8  2020        231   \n",
      "2020-08-18 12:02:00    12          1        3      8  2020        231   \n",
      "\n",
      "                     dayofmonth  weekofyear  \n",
      "Datetime                                     \n",
      "2020-08-31 19:50:00          31          36  \n",
      "2020-08-29 17:09:00          29          35  \n",
      "2020-08-29 18:12:00          29          35  \n",
      "2020-08-29 17:39:00          29          35  \n",
      "2020-08-29 17:24:00          29          35  \n",
      "...                         ...         ...  \n",
      "2020-08-27 18:53:00          27          35  \n",
      "2020-08-20 11:49:00          20          34  \n",
      "2020-08-18 12:45:00          18          34  \n",
      "2020-08-18 12:23:00          18          34  \n",
      "2020-08-18 12:02:00          18          34  \n",
      "\n",
      "[550 rows x 8 columns]\n"
     ]
    },
    {
     "name": "stderr",
     "output_type": "stream",
     "text": [
      "<ipython-input-254-9ce40638487c>:14: FutureWarning: Series.dt.weekofyear and Series.dt.week have been deprecated.  Please use Series.dt.isocalendar().week instead.\n",
      "  df['weekofyear'] = df['date'].dt.weekofyear\n",
      "<ipython-input-254-9ce40638487c>:14: FutureWarning: Series.dt.weekofyear and Series.dt.week have been deprecated.  Please use Series.dt.isocalendar().week instead.\n",
      "  df['weekofyear'] = df['date'].dt.weekofyear\n"
     ]
    }
   ],
   "source": [
    "X_train, y_train = create_features(df_train, label='feature')\n",
    "X_test, y_test = create_features(df_test, label='feature')"
   ]
  },
  {
   "cell_type": "code",
   "execution_count": 256,
   "metadata": {},
   "outputs": [],
   "source": [
    "X_test = X_test.reset_index()\n",
    "del X_test['Datetime']\n",
    "X_train = X_train.reset_index()\n",
    "del X_train['Datetime']"
   ]
  },
  {
   "cell_type": "code",
   "execution_count": 295,
   "metadata": {},
   "outputs": [],
   "source": [
    "train = xgb.DMatrix(X_train, label = y_train)\n",
    "test = xgb.DMatrix(X_test, label = y_test)\n",
    "param = {\n",
    "    'max_depth': 4,\n",
    "    'eta': 0.3,\n",
    "    'objective': 'multi:softmax',\n",
    "    'num_class': 4\n",
    "}\n",
    "epochs = 10"
   ]
  },
  {
   "cell_type": "code",
   "execution_count": 296,
   "metadata": {},
   "outputs": [
    {
     "name": "stdout",
     "output_type": "stream",
     "text": [
      "[06:23:36] WARNING: C:/Users/Administrator/workspace/xgboost-win64_release_1.3.0/src/learner.cc:1061: Starting in XGBoost 1.3.0, the default evaluation metric used with the objective 'multi:softmax' was changed from 'merror' to 'mlogloss'. Explicitly set eval_metric if you'd like to restore the old behavior.\n"
     ]
    }
   ],
   "source": [
    "model = xgb.train(param, train, epochs)\n",
    "predictions = model.predict(test)"
   ]
  },
  {
   "cell_type": "code",
   "execution_count": null,
   "metadata": {},
   "outputs": [],
   "source": []
  },
  {
   "cell_type": "code",
   "execution_count": 297,
   "metadata": {},
   "outputs": [
    {
     "data": {
      "text/plain": [
       "0.36"
      ]
     },
     "execution_count": 297,
     "metadata": {},
     "output_type": "execute_result"
    }
   ],
   "source": [
    "accuracy_score(y_test, predictions)"
   ]
  },
  {
   "cell_type": "code",
   "execution_count": 270,
   "metadata": {},
   "outputs": [],
   "source": [
    "# plot feature importance using built-in function\n",
    "from numpy import loadtxt\n",
    "from xgboost import XGBClassifier\n",
    "from xgboost import plot_importance\n",
    "from matplotlib import pyplot"
   ]
  },
  {
   "cell_type": "code",
   "execution_count": 271,
   "metadata": {},
   "outputs": [
    {
     "data": {
      "image/png": "[encoded data removed]",
      "text/plain": [
       "<Figure size 432x288 with 1 Axes>"
      ]
     },
     "metadata": {
      "needs_background": "light"
     },
     "output_type": "display_data"
    }
   ],
   "source": [
    "plot_importance(model)\n",
    "pyplot.show()"
   ]
  },
  {
   "cell_type": "code",
   "execution_count": 272,
   "metadata": {},
   "outputs": [
    {
     "data": {
      "text/html": [
       "<div>\n",
       "<style scoped>\n",
       "    .dataframe tbody tr th:only-of-type {\n",
       "        vertical-align: middle;\n",
       "    }\n",
       "\n",
       "    .dataframe tbody tr th {\n",
       "        vertical-align: top;\n",
       "    }\n",
       "\n",
       "    .dataframe thead th {\n",
       "        text-align: right;\n",
       "    }\n",
       "</style>\n",
       "<table border=\"1\" class=\"dataframe\">\n",
       "  <thead>\n",
       "    <tr style=\"text-align: right;\">\n",
       "      <th></th>\n",
       "      <th>prediction</th>\n",
       "      <th>actual</th>\n",
       "    </tr>\n",
       "  </thead>\n",
       "  <tbody>\n",
       "    <tr>\n",
       "      <th>0</th>\n",
       "      <td>3.0</td>\n",
       "      <td>2</td>\n",
       "    </tr>\n",
       "    <tr>\n",
       "      <th>1</th>\n",
       "      <td>3.0</td>\n",
       "      <td>2</td>\n",
       "    </tr>\n",
       "    <tr>\n",
       "      <th>2</th>\n",
       "      <td>3.0</td>\n",
       "      <td>2</td>\n",
       "    </tr>\n",
       "    <tr>\n",
       "      <th>3</th>\n",
       "      <td>3.0</td>\n",
       "      <td>2</td>\n",
       "    </tr>\n",
       "    <tr>\n",
       "      <th>4</th>\n",
       "      <td>3.0</td>\n",
       "      <td>2</td>\n",
       "    </tr>\n",
       "    <tr>\n",
       "      <th>...</th>\n",
       "      <td>...</td>\n",
       "      <td>...</td>\n",
       "    </tr>\n",
       "    <tr>\n",
       "      <th>545</th>\n",
       "      <td>2.0</td>\n",
       "      <td>3</td>\n",
       "    </tr>\n",
       "    <tr>\n",
       "      <th>546</th>\n",
       "      <td>2.0</td>\n",
       "      <td>3</td>\n",
       "    </tr>\n",
       "    <tr>\n",
       "      <th>547</th>\n",
       "      <td>2.0</td>\n",
       "      <td>3</td>\n",
       "    </tr>\n",
       "    <tr>\n",
       "      <th>548</th>\n",
       "      <td>2.0</td>\n",
       "      <td>3</td>\n",
       "    </tr>\n",
       "    <tr>\n",
       "      <th>549</th>\n",
       "      <td>2.0</td>\n",
       "      <td>3</td>\n",
       "    </tr>\n",
       "  </tbody>\n",
       "</table>\n",
       "<p>550 rows × 2 columns</p>\n",
       "</div>"
      ],
      "text/plain": [
       "     prediction  actual\n",
       "0           3.0       2\n",
       "1           3.0       2\n",
       "2           3.0       2\n",
       "3           3.0       2\n",
       "4           3.0       2\n",
       "..          ...     ...\n",
       "545         2.0       3\n",
       "546         2.0       3\n",
       "547         2.0       3\n",
       "548         2.0       3\n",
       "549         2.0       3\n",
       "\n",
       "[550 rows x 2 columns]"
      ]
     },
     "execution_count": 272,
     "metadata": {},
     "output_type": "execute_result"
    }
   ],
   "source": [
    "import seaborn as sn\n",
    "import matplotlib.pyplot as plt\n",
    "df = pd.DataFrame(list(zip(predictions, y_test)),\n",
    "               columns =['prediction', 'actual'])\n",
    "df"
   ]
  },
  {
   "cell_type": "code",
   "execution_count": 273,
   "metadata": {},
   "outputs": [
    {
     "data": {
      "text/html": [
       "<div>\n",
       "<style scoped>\n",
       "    .dataframe tbody tr th:only-of-type {\n",
       "        vertical-align: middle;\n",
       "    }\n",
       "\n",
       "    .dataframe tbody tr th {\n",
       "        vertical-align: top;\n",
       "    }\n",
       "\n",
       "    .dataframe thead th {\n",
       "        text-align: right;\n",
       "    }\n",
       "</style>\n",
       "<table border=\"1\" class=\"dataframe\">\n",
       "  <thead>\n",
       "    <tr style=\"text-align: right;\">\n",
       "      <th>Predicted</th>\n",
       "      <th>0.0</th>\n",
       "      <th>1.0</th>\n",
       "      <th>2.0</th>\n",
       "      <th>3.0</th>\n",
       "    </tr>\n",
       "    <tr>\n",
       "      <th>Actual</th>\n",
       "      <th></th>\n",
       "      <th></th>\n",
       "      <th></th>\n",
       "      <th></th>\n",
       "    </tr>\n",
       "  </thead>\n",
       "  <tbody>\n",
       "    <tr>\n",
       "      <th>0</th>\n",
       "      <td>6</td>\n",
       "      <td>0</td>\n",
       "      <td>24</td>\n",
       "      <td>21</td>\n",
       "    </tr>\n",
       "    <tr>\n",
       "      <th>1</th>\n",
       "      <td>4</td>\n",
       "      <td>0</td>\n",
       "      <td>40</td>\n",
       "      <td>19</td>\n",
       "    </tr>\n",
       "    <tr>\n",
       "      <th>2</th>\n",
       "      <td>4</td>\n",
       "      <td>6</td>\n",
       "      <td>148</td>\n",
       "      <td>75</td>\n",
       "    </tr>\n",
       "    <tr>\n",
       "      <th>3</th>\n",
       "      <td>5</td>\n",
       "      <td>5</td>\n",
       "      <td>149</td>\n",
       "      <td>44</td>\n",
       "    </tr>\n",
       "  </tbody>\n",
       "</table>\n",
       "</div>"
      ],
      "text/plain": [
       "Predicted  0.0  1.0  2.0  3.0\n",
       "Actual                       \n",
       "0            6    0   24   21\n",
       "1            4    0   40   19\n",
       "2            4    6  148   75\n",
       "3            5    5  149   44"
      ]
     },
     "execution_count": 273,
     "metadata": {},
     "output_type": "execute_result"
    }
   ],
   "source": [
    "confusion_matrix = pd.crosstab(df['actual'], df['prediction'], rownames=['Actual'], colnames=['Predicted'])\n",
    "confusion_matrix"
   ]
  },
  {
   "cell_type": "code",
   "execution_count": 274,
   "metadata": {},
   "outputs": [
    {
     "data": {
      "text/plain": [
       "<AxesSubplot:xlabel='Predicted', ylabel='Actual'>"
      ]
     },
     "execution_count": 274,
     "metadata": {},
     "output_type": "execute_result"
    },
    {
     "data": {
      "image/png": "[encoded data removed]",
      "text/plain": [
       "<Figure size 432x288 with 2 Axes>"
      ]
     },
     "metadata": {
      "needs_background": "light"
     },
     "output_type": "display_data"
    }
   ],
   "source": [
    "data = {'y_Actual':    [1, 0, 0, 1, 0, 1, 0, 0, 1, 0, 1, 0],\n",
    "        'y_Predicted': [1, 1, 0, 1, 0, 1, 1, 0, 1, 0, 0, 0]\n",
    "        }\n",
    "\n",
    "df = pd.DataFrame(data, columns=['y_Actual','y_Predicted'])\n",
    "sn.heatmap(confusion_matrix, annot=True)"
   ]
  },
  {
   "cell_type": "code",
   "execution_count": null,
   "metadata": {},
   "outputs": [],
   "source": []
  }
 ],
 "metadata": {
  "kernelspec": {
   "display_name": "Python 3",
   "language": "python",
   "name": "python3"
  },
  "language_info": {
   "codemirror_mode": {
    "name": "ipython",
    "version": 3
   },
   "file_extension": ".py",
   "mimetype": "text/x-python",
   "name": "python",
   "nbconvert_exporter": "python",
   "pygments_lexer": "ipython3",
   "version": "3.8.5"
  }
 },
 "nbformat": 4,
 "nbformat_minor": 4
}
