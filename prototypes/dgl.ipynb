{
 "cells": [
  {
   "cell_type": "code",
   "execution_count": 9,
   "metadata": {},
   "outputs": [
    {
     "name": "stdout",
     "output_type": "stream",
     "text": [
      "Requirement already satisfied: dgl in /Library/Frameworks/Python.framework/Versions/3.8/lib/python3.8/site-packages (0.6.0)\n",
      "Requirement already satisfied: requests>=2.19.0 in /Library/Frameworks/Python.framework/Versions/3.8/lib/python3.8/site-packages (from dgl) (2.25.1)\n",
      "Requirement already satisfied: scipy>=1.1.0 in /Library/Frameworks/Python.framework/Versions/3.8/lib/python3.8/site-packages (from dgl) (1.4.1)\n",
      "Requirement already satisfied: networkx>=2.1 in /Library/Frameworks/Python.framework/Versions/3.8/lib/python3.8/site-packages/networkx-2.5-py3.8.egg (from dgl) (2.5)\n",
      "Requirement already satisfied: numpy>=1.14.0 in /Library/Frameworks/Python.framework/Versions/3.8/lib/python3.8/site-packages (from dgl) (1.19.5)\n",
      "Requirement already satisfied: decorator>=4.3.0 in /Library/Frameworks/Python.framework/Versions/3.8/lib/python3.8/site-packages/decorator-4.4.2-py3.8.egg (from networkx>=2.1->dgl) (4.4.2)\n",
      "Requirement already satisfied: certifi>=2017.4.17 in /Library/Frameworks/Python.framework/Versions/3.8/lib/python3.8/site-packages (from requests>=2.19.0->dgl) (2020.12.5)\n",
      "Requirement already satisfied: idna<3,>=2.5 in /Library/Frameworks/Python.framework/Versions/3.8/lib/python3.8/site-packages (from requests>=2.19.0->dgl) (2.10)\n",
      "Requirement already satisfied: urllib3<1.27,>=1.21.1 in /Library/Frameworks/Python.framework/Versions/3.8/lib/python3.8/site-packages (from requests>=2.19.0->dgl) (1.26.3)\n",
      "Requirement already satisfied: chardet<5,>=3.0.2 in /Library/Frameworks/Python.framework/Versions/3.8/lib/python3.8/site-packages (from requests>=2.19.0->dgl) (4.0.0)\n",
      "/usr/local/Cellar/python@2.7.17/2.7.17_1/Frameworks/Python.framework/Versions/2.7/Resources/Python.app/Contents/MacOS/Python: No module named dgl.backend\n",
      "Collecting torch\n",
      "  Downloading torch-1.7.1-cp38-none-macosx_10_9_x86_64.whl (108.9 MB)\n",
      "\u001b[K     |████████████████████████████████| 108.9 MB 10.3 MB/s eta 0:00:01\n",
      "\u001b[?25hCollecting torchvision\n",
      "  Downloading torchvision-0.8.2-cp38-cp38-macosx_10_9_x86_64.whl (1.0 MB)\n",
      "\u001b[K     |████████████████████████████████| 1.0 MB 9.0 MB/s eta 0:00:01\n",
      "\u001b[?25hCollecting torchaudio\n",
      "  Downloading torchaudio-0.7.2-cp38-cp38-macosx_10_9_x86_64.whl (1.4 MB)\n",
      "\u001b[K     |████████████████████████████████| 1.4 MB 11.1 MB/s eta 0:00:01\n",
      "\u001b[?25hRequirement already satisfied: numpy in /Library/Frameworks/Python.framework/Versions/3.8/lib/python3.8/site-packages (from torch) (1.19.5)\n",
      "Requirement already satisfied: typing-extensions in /Library/Frameworks/Python.framework/Versions/3.8/lib/python3.8/site-packages (from torch) (3.7.4.3)\n",
      "Collecting pillow>=4.1.1\n",
      "  Downloading Pillow-8.1.1-cp38-cp38-macosx_10_10_x86_64.whl (2.2 MB)\n",
      "\u001b[K     |████████████████████████████████| 2.2 MB 11.5 MB/s eta 0:00:01\n",
      "\u001b[?25hInstalling collected packages: torch, pillow, torchvision, torchaudio\n",
      "Successfully installed pillow-8.1.1 torch-1.7.1 torchaudio-0.7.2 torchvision-0.8.2\n"
     ]
    }
   ],
   "source": [
    "!pip3 install dgl\n",
    "!export DGLBACKEND=tensorflow\n",
    "!python -m dgl.backend.set_default_backend tensorflow\n",
    "!pip install torch torchvision torchaudio"
   ]
  },
  {
   "cell_type": "code",
   "execution_count": 26,
   "metadata": {},
   "outputs": [],
   "source": [
    "import dgl\n",
    "import dgl.function as fn\n",
    "import numpy\n",
    "import torch\n",
    "import torch.nn as nn\n",
    "import torch.nn.functional as F"
   ]
  },
  {
   "cell_type": "code",
   "execution_count": 12,
   "metadata": {},
   "outputs": [
    {
     "name": "stdout",
     "output_type": "stream",
     "text": [
      "  NumNodes: 2708\n",
      "  NumEdges: 10556\n",
      "  NumFeats: 1433\n",
      "  NumClasses: 7\n",
      "  NumTrainingSamples: 140\n",
      "  NumValidationSamples: 500\n",
      "  NumTestSamples: 1000\n",
      "Done loading data from cached files.\n",
      "Number of categories: 7\n"
     ]
    }
   ],
   "source": [
    "import dgl.data\n",
    "\n",
    "dataset = dgl.data.CoraGraphDataset()\n",
    "print('Number of categories:', dataset.num_classes)"
   ]
  },
  {
   "cell_type": "code",
   "execution_count": 13,
   "metadata": {},
   "outputs": [
    {
     "name": "stdout",
     "output_type": "stream",
     "text": [
      "Node features\n",
      "{'feat': tensor([[0., 0., 0.,  ..., 0., 0., 0.],\n",
      "        [0., 0., 0.,  ..., 0., 0., 0.],\n",
      "        [0., 0., 0.,  ..., 0., 0., 0.],\n",
      "        ...,\n",
      "        [0., 0., 0.,  ..., 0., 0., 0.],\n",
      "        [0., 0., 0.,  ..., 0., 0., 0.],\n",
      "        [0., 0., 0.,  ..., 0., 0., 0.]]), 'label': tensor([3, 4, 4,  ..., 3, 3, 3]), 'val_mask': tensor([False, False, False,  ..., False, False, False]), 'test_mask': tensor([False, False, False,  ...,  True,  True,  True]), 'train_mask': tensor([ True,  True,  True,  ..., False, False, False])}\n",
      "Edge features\n",
      "{}\n"
     ]
    }
   ],
   "source": [
    "g = dataset[0]\n",
    "print('Node features')\n",
    "print(g.ndata)\n",
    "print('Edge features')\n",
    "print(g.edata)"
   ]
  },
  {
   "cell_type": "code",
   "execution_count": 16,
   "metadata": {},
   "outputs": [],
   "source": [
    "from dgl.nn import GraphConv\n",
    "\n",
    "class GCN(nn.Module):\n",
    "    def __init__(self, in_feats, h_feats, num_classes):\n",
    "        super(GCN, self).__init__()\n",
    "        self.conv1 = GraphConv(in_feats, h_feats)\n",
    "        self.conv2 = GraphConv(h_feats, num_classes)\n",
    "\n",
    "    def forward(self, g, in_feat):\n",
    "        h = self.conv1(g, in_feat)\n",
    "        h = F.relu(h)\n",
    "        h = self.conv2(g, h)\n",
    "        return h\n",
    "\n",
    "# Create the model with given dimensions\n",
    "model = GCN(g.ndata['feat'].shape[1], 16, dataset.num_classes)"
   ]
  },
  {
   "cell_type": "code",
   "execution_count": 17,
   "metadata": {},
   "outputs": [
    {
     "name": "stdout",
     "output_type": "stream",
     "text": [
      "In epoch 0, loss: 1.946, val acc: 0.088 (best 0.088), test acc: 0.080 (best 0.080)\n",
      "In epoch 5, loss: 1.898, val acc: 0.476 (best 0.476), test acc: 0.517 (best 0.517)\n",
      "In epoch 10, loss: 1.819, val acc: 0.592 (best 0.592), test acc: 0.627 (best 0.627)\n",
      "In epoch 15, loss: 1.716, val acc: 0.648 (best 0.648), test acc: 0.675 (best 0.675)\n",
      "In epoch 20, loss: 1.589, val acc: 0.688 (best 0.688), test acc: 0.711 (best 0.706)\n",
      "In epoch 25, loss: 1.441, val acc: 0.692 (best 0.692), test acc: 0.722 (best 0.722)\n",
      "In epoch 30, loss: 1.278, val acc: 0.706 (best 0.706), test acc: 0.731 (best 0.731)\n",
      "In epoch 35, loss: 1.107, val acc: 0.724 (best 0.724), test acc: 0.735 (best 0.735)\n",
      "In epoch 40, loss: 0.938, val acc: 0.734 (best 0.734), test acc: 0.745 (best 0.745)\n",
      "In epoch 45, loss: 0.778, val acc: 0.734 (best 0.736), test acc: 0.754 (best 0.747)\n",
      "In epoch 50, loss: 0.636, val acc: 0.744 (best 0.744), test acc: 0.757 (best 0.754)\n",
      "In epoch 55, loss: 0.514, val acc: 0.754 (best 0.754), test acc: 0.769 (best 0.769)\n",
      "In epoch 60, loss: 0.413, val acc: 0.760 (best 0.760), test acc: 0.769 (best 0.769)\n",
      "In epoch 65, loss: 0.333, val acc: 0.766 (best 0.766), test acc: 0.773 (best 0.771)\n",
      "In epoch 70, loss: 0.269, val acc: 0.770 (best 0.772), test acc: 0.779 (best 0.778)\n",
      "In epoch 75, loss: 0.219, val acc: 0.772 (best 0.772), test acc: 0.777 (best 0.778)\n",
      "In epoch 80, loss: 0.179, val acc: 0.774 (best 0.776), test acc: 0.776 (best 0.775)\n",
      "In epoch 85, loss: 0.149, val acc: 0.772 (best 0.776), test acc: 0.777 (best 0.775)\n",
      "In epoch 90, loss: 0.124, val acc: 0.772 (best 0.776), test acc: 0.778 (best 0.775)\n",
      "In epoch 95, loss: 0.105, val acc: 0.772 (best 0.776), test acc: 0.778 (best 0.775)\n"
     ]
    }
   ],
   "source": [
    "def train(g, model):\n",
    "    optimizer = torch.optim.Adam(model.parameters(), lr=0.01)\n",
    "    best_val_acc = 0\n",
    "    best_test_acc = 0\n",
    "\n",
    "    features = g.ndata['feat']\n",
    "    labels = g.ndata['label']\n",
    "    train_mask = g.ndata['train_mask']\n",
    "    val_mask = g.ndata['val_mask']\n",
    "    test_mask = g.ndata['test_mask']\n",
    "    for e in range(100):\n",
    "        # Forward\n",
    "        logits = model(g, features)\n",
    "\n",
    "        # Compute prediction\n",
    "        pred = logits.argmax(1)\n",
    "\n",
    "        # Compute loss\n",
    "        # Note that you should only compute the losses of the nodes in the training set.\n",
    "        loss = F.cross_entropy(logits[train_mask], labels[train_mask])\n",
    "\n",
    "        # Compute accuracy on training/validation/test\n",
    "        train_acc = (pred[train_mask] == labels[train_mask]).float().mean()\n",
    "        val_acc = (pred[val_mask] == labels[val_mask]).float().mean()\n",
    "        test_acc = (pred[test_mask] == labels[test_mask]).float().mean()\n",
    "\n",
    "        # Save the best validation accuracy and the corresponding test accuracy.\n",
    "        if best_val_acc < val_acc:\n",
    "            best_val_acc = val_acc\n",
    "            best_test_acc = test_acc\n",
    "\n",
    "        # Backward\n",
    "        optimizer.zero_grad()\n",
    "        loss.backward()\n",
    "        optimizer.step()\n",
    "\n",
    "        if e % 5 == 0:\n",
    "            print('In epoch {}, loss: {:.3f}, val acc: {:.3f} (best {:.3f}), test acc: {:.3f} (best {:.3f})'.format(\n",
    "                e, loss, val_acc, best_val_acc, test_acc, best_test_acc))\n",
    "model = GCN(g.ndata['feat'].shape[1], 16, dataset.num_classes)\n",
    "train(g, model)"
   ]
  },
  {
   "cell_type": "code",
   "execution_count": 19,
   "metadata": {},
   "outputs": [
    {
     "data": {
      "text/plain": [
       "(tensor([0, 0, 0, 0, 0, 1, 2, 3, 4, 5]),\n",
       " tensor([1, 2, 3, 4, 5, 0, 0, 0, 0, 0]))"
      ]
     },
     "execution_count": 19,
     "metadata": {},
     "output_type": "execute_result"
    }
   ],
   "source": [
    "g = dgl.graph(([0, 0, 0, 0, 0], [1, 2, 3, 4, 5]))\n",
    "\n",
    "# Assign a 3-dimensional node feature vector for each node.\n",
    "g.ndata['x'] = torch.randn(6, 3)\n",
    "# Assign a 4-dimensional edge feature vector for each edge.\n",
    "g.edata['a'] = torch.randn(5, 4)\n",
    "# Assign a 5x4 node feature matrix for each node.  Node and edge features in DGL can be multi-dimensional.\n",
    "g.ndata['y'] = torch.randn(6, 5, 4)\n",
    "newg = dgl.add_reverse_edges(g)\n",
    "newg.edges()"
   ]
  },
  {
   "cell_type": "code",
   "execution_count": 21,
   "metadata": {},
   "outputs": [
    {
     "name": "stdout",
     "output_type": "stream",
     "text": [
      "Graph(num_nodes=6, num_edges=5,\n",
      "      ndata_schemes={'x': Scheme(shape=(3,), dtype=torch.float32), 'y': Scheme(shape=(5, 4), dtype=torch.float32)}\n",
      "      edata_schemes={'a': Scheme(shape=(4,), dtype=torch.float32)})\n",
      "{}\n"
     ]
    }
   ],
   "source": [
    "dgl.save_graphs('graph.dgl', g)\n",
    "(g,),s = dgl.load_graphs('graph.dgl')\n",
    "print(g)\n",
    "print(s)"
   ]
  },
  {
   "cell_type": "code",
   "execution_count": 37,
   "metadata": {},
   "outputs": [],
   "source": [
    "#Does not work yet\n",
    "def u_mul_e_udf(edges):\n",
    "    return {'m' : edges.src['h'] * edges.data['w']}"
   ]
  },
  {
   "cell_type": "code",
   "execution_count": 44,
   "metadata": {},
   "outputs": [],
   "source": [
    "class WeightedSAGEConv(nn.Module):\n",
    "    def __init__(self, in_feat, out_feat):\n",
    "        super(WeightedSAGEConv, self).__init__()\n",
    "        # A linear submodule for projecting the input and neighbor feature to the output.\n",
    "        self.linear = nn.Linear(in_feat * 2, out_feat)\n",
    "\n",
    "    def forward(self, g, h, w):\n",
    "        with g.local_scope():\n",
    "            g.ndata['h'] = h\n",
    "            g.edata['w'] = w\n",
    "            g.update_all(message_func=fn.u_mul_e('h', 'w', 'm'), reduce_func=fn.mean('m', 'h_N'))\n",
    "            h_N = g.ndata['h_N']\n",
    "            h_total = torch.cat([h, h_N], dim=1)\n",
    "            return self.linear(h_total)"
   ]
  },
  {
   "cell_type": "code",
   "execution_count": 45,
   "metadata": {},
   "outputs": [
    {
     "name": "stdout",
     "output_type": "stream",
     "text": [
      "  NumNodes: 2708\n",
      "  NumEdges: 10556\n",
      "  NumFeats: 1433\n",
      "  NumClasses: 7\n",
      "  NumTrainingSamples: 140\n",
      "  NumValidationSamples: 500\n",
      "  NumTestSamples: 1000\n",
      "Done loading data from cached files.\n",
      "In epoch 0, loss: 1.951, val acc: 0.122 (best 0.122), test acc: 0.130 (best 0.130)\n",
      "In epoch 5, loss: 1.889, val acc: 0.392 (best 0.392), test acc: 0.420 (best 0.420)\n",
      "In epoch 10, loss: 1.770, val acc: 0.294 (best 0.540), test acc: 0.290 (best 0.526)\n",
      "In epoch 15, loss: 1.585, val acc: 0.388 (best 0.540), test acc: 0.377 (best 0.526)\n",
      "In epoch 20, loss: 1.337, val acc: 0.562 (best 0.562), test acc: 0.535 (best 0.535)\n",
      "In epoch 25, loss: 1.051, val acc: 0.666 (best 0.666), test acc: 0.656 (best 0.656)\n",
      "In epoch 30, loss: 0.763, val acc: 0.726 (best 0.726), test acc: 0.730 (best 0.730)\n",
      "In epoch 35, loss: 0.513, val acc: 0.750 (best 0.750), test acc: 0.761 (best 0.761)\n",
      "In epoch 40, loss: 0.323, val acc: 0.760 (best 0.760), test acc: 0.769 (best 0.769)\n",
      "In epoch 45, loss: 0.197, val acc: 0.764 (best 0.764), test acc: 0.769 (best 0.769)\n",
      "In epoch 50, loss: 0.121, val acc: 0.768 (best 0.770), test acc: 0.768 (best 0.770)\n",
      "In epoch 55, loss: 0.077, val acc: 0.764 (best 0.770), test acc: 0.766 (best 0.770)\n",
      "In epoch 60, loss: 0.052, val acc: 0.754 (best 0.770), test acc: 0.767 (best 0.770)\n",
      "In epoch 65, loss: 0.037, val acc: 0.758 (best 0.770), test acc: 0.767 (best 0.770)\n",
      "In epoch 70, loss: 0.028, val acc: 0.754 (best 0.770), test acc: 0.768 (best 0.770)\n",
      "In epoch 75, loss: 0.022, val acc: 0.756 (best 0.770), test acc: 0.764 (best 0.770)\n",
      "In epoch 80, loss: 0.018, val acc: 0.756 (best 0.770), test acc: 0.762 (best 0.770)\n",
      "In epoch 85, loss: 0.015, val acc: 0.758 (best 0.770), test acc: 0.761 (best 0.770)\n",
      "In epoch 90, loss: 0.013, val acc: 0.758 (best 0.770), test acc: 0.757 (best 0.770)\n",
      "In epoch 95, loss: 0.012, val acc: 0.756 (best 0.770), test acc: 0.758 (best 0.770)\n"
     ]
    }
   ],
   "source": [
    "class Model(nn.Module):\n",
    "    def __init__(self, in_feats, h_feats, num_classes):\n",
    "        super(Model, self).__init__()\n",
    "        self.conv1 = WeightedSAGEConv(in_feats, h_feats)\n",
    "        self.conv2 = WeightedSAGEConv(h_feats, num_classes)\n",
    "\n",
    "    def forward(self, g, in_feat):\n",
    "        h = self.conv1(g, in_feat, torch.ones(g.num_edges()).to(g.device))\n",
    "        h = F.relu(h)\n",
    "        h = self.conv2(g, h, torch.ones(g.num_edges()).to(g.device))\n",
    "        return h\n",
    "\n",
    "dataset = dgl.data.CoraGraphDataset()\n",
    "g = dataset[0]\n",
    "model = Model(g.ndata['feat'].shape[1], 16, dataset.num_classes)\n",
    "train(g, model)"
   ]
  },
  {
   "cell_type": "code",
   "execution_count": null,
   "metadata": {},
   "outputs": [],
   "source": []
  }
 ],
 "metadata": {
  "kernelspec": {
   "display_name": "Python 3",
   "language": "python",
   "name": "python3"
  },
  "language_info": {
   "codemirror_mode": {
    "name": "ipython",
    "version": 3
   },
   "file_extension": ".py",
   "mimetype": "text/x-python",
   "name": "python",
   "nbconvert_exporter": "python",
   "pygments_lexer": "ipython3",
   "version": "3.8.5"
  }
 },
 "nbformat": 4,
 "nbformat_minor": 5
}
