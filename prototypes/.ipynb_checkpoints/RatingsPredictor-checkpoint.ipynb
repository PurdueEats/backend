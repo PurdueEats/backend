{
 "cells": [
  {
   "cell_type": "code",
   "execution_count": null,
   "id": "wound-presentation",
   "metadata": {},
   "outputs": [],
   "source": [
    "import dgl\n",
    "\n",
    "ratings = dgl.heterograph(\n",
    "    {('user', 'rating', 'menuItem') : [(0, 0), (0, 1), (1, 0)],\n",
    "     ('menuItem', 'contains', 'ingredient') : [(2, 1)]})"
   ]
  },
  {
   "cell_type": "code",
   "execution_count": null,
   "id": "supposed-percentage",
   "metadata": {},
   "outputs": [],
   "source": [
    "print(ratings.num_nodes())\n",
    "print('Node types:', ratings.ntypes)\n",
    "print('Edge types:', ratings.etypes)\n",
    "print('Canonical edge types:', ratings.canonical_etypes)"
   ]
  },
  {
   "cell_type": "code",
   "execution_count": null,
   "id": "rotary-motel",
   "metadata": {},
   "outputs": [],
   "source": [
    "import pygraphviz as pgv\n",
    "def plot_graph(nxg):\n",
    "    ag = pgv.AGraph(strict=False, directed=True)\n",
    "    for u, v, k in nxg.edges(keys=True):\n",
    "        ag.add_edge(u, v, label=k)\n",
    "    ag.layout('dot')\n",
    "    ag.draw('graph.png')\n",
    "\n",
    "plot_graph(ratings.metagraph)"
   ]
  },
  {
   "cell_type": "code",
   "execution_count": null,
   "id": "illegal-testament",
   "metadata": {},
   "outputs": [],
   "source": []
  },
  {
   "cell_type": "code",
   "execution_count": null,
   "id": "animated-control",
   "metadata": {},
   "outputs": [],
   "source": []
  }
 ],
 "metadata": {
  "kernelspec": {
   "display_name": "Python 3",
   "language": "python",
   "name": "python3"
  },
  "language_info": {
   "codemirror_mode": {
    "name": "ipython",
    "version": 3
   },
   "file_extension": ".py",
   "mimetype": "text/x-python",
   "name": "python",
   "nbconvert_exporter": "python",
   "pygments_lexer": "ipython3",
   "version": "3.8.1"
  }
 },
 "nbformat": 4,
 "nbformat_minor": 5
}
